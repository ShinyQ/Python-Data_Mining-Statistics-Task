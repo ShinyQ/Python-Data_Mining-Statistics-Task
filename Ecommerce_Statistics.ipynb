{
  "nbformat": 4,
  "nbformat_minor": 0,
  "metadata": {
    "colab": {
      "name": "Ecommerce - Statistics.ipynb",
      "provenance": [],
      "collapsed_sections": [],
      "mount_file_id": "1rUwxK3q0haoKYuk8J973f2olU6k2DbAk",
      "authorship_tag": "ABX9TyMzseQqnofmaNCqSl2zCdfv",
      "include_colab_link": true
    },
    "kernelspec": {
      "name": "python3",
      "display_name": "Python 3"
    }
  },
  "cells": [
    {
      "cell_type": "markdown",
      "metadata": {
        "id": "view-in-github",
        "colab_type": "text"
      },
      "source": [
        "<a href=\"https://colab.research.google.com/github/ShinyQ/Python-Data_Mining-Statistics_Task/blob/master/Ecommerce_Statistics.ipynb\" target=\"_parent\"><img src=\"https://colab.research.google.com/assets/colab-badge.svg\" alt=\"Open In Colab\"/></a>"
      ]
    },
    {
      "cell_type": "markdown",
      "metadata": {
        "id": "TvfyKZEgRI2M"
      },
      "source": [
        "# **Tugas 3 : Histogram**\n",
        "\n",
        "Kurniadi Ahmad Wijaya - 1301194024 - IF 43 *09*"
      ]
    },
    {
      "cell_type": "code",
      "metadata": {
        "id": "JqaCuau2Q0Bf"
      },
      "source": [
        "import pandas as pd\n",
        "\n",
        "path = '/content/drive/My Drive/Tugas 3 Histogram/'\n",
        "ecom = pd.read_excel(path + 'Book1.xlsx')"
      ],
      "execution_count": 1,
      "outputs": []
    },
    {
      "cell_type": "code",
      "metadata": {
        "id": "My37IW0ASOYB",
        "outputId": "8fee58fd-86d4-4468-c705-1db2472835b5",
        "colab": {
          "base_uri": "https://localhost:8080/",
          "height": 34
        }
      },
      "source": [
        "ecom.shape"
      ],
      "execution_count": 2,
      "outputs": [
        {
          "output_type": "execute_result",
          "data": {
            "text/plain": [
              "(1000, 14)"
            ]
          },
          "metadata": {
            "tags": []
          },
          "execution_count": 2
        }
      ]
    },
    {
      "cell_type": "code",
      "metadata": {
        "id": "pAp9yD3xRx_f",
        "outputId": "b29a0315-4f87-4760-8605-4a610b08d3b7",
        "colab": {
          "base_uri": "https://localhost:8080/",
          "height": 445
        }
      },
      "source": [
        "ecom.head()"
      ],
      "execution_count": 11,
      "outputs": [
        {
          "output_type": "execute_result",
          "data": {
            "text/html": [
              "<div>\n",
              "<style scoped>\n",
              "    .dataframe tbody tr th:only-of-type {\n",
              "        vertical-align: middle;\n",
              "    }\n",
              "\n",
              "    .dataframe tbody tr th {\n",
              "        vertical-align: top;\n",
              "    }\n",
              "\n",
              "    .dataframe thead th {\n",
              "        text-align: right;\n",
              "    }\n",
              "</style>\n",
              "<table border=\"1\" class=\"dataframe\">\n",
              "  <thead>\n",
              "    <tr style=\"text-align: right;\">\n",
              "      <th></th>\n",
              "      <th>Region</th>\n",
              "      <th>Country</th>\n",
              "      <th>Item Type</th>\n",
              "      <th>Sales Channel</th>\n",
              "      <th>Order Priority</th>\n",
              "      <th>Order Date</th>\n",
              "      <th>Order ID</th>\n",
              "      <th>Ship Date</th>\n",
              "      <th>Units Sold</th>\n",
              "      <th>Unit Price</th>\n",
              "      <th>Unit Cost</th>\n",
              "      <th>Total Revenue</th>\n",
              "      <th>Total Cost</th>\n",
              "      <th>Total Profit</th>\n",
              "    </tr>\n",
              "  </thead>\n",
              "  <tbody>\n",
              "    <tr>\n",
              "      <th>0</th>\n",
              "      <td>Middle East and North Africa</td>\n",
              "      <td>Libya</td>\n",
              "      <td>Cosmetics</td>\n",
              "      <td>Offline</td>\n",
              "      <td>M</td>\n",
              "      <td>2014-10-18</td>\n",
              "      <td>686800706</td>\n",
              "      <td>2014-10-31</td>\n",
              "      <td>8446</td>\n",
              "      <td>437.20</td>\n",
              "      <td>263.33</td>\n",
              "      <td>3692591.20</td>\n",
              "      <td>2224085.18</td>\n",
              "      <td>1468506.02</td>\n",
              "    </tr>\n",
              "    <tr>\n",
              "      <th>1</th>\n",
              "      <td>North America</td>\n",
              "      <td>Canada</td>\n",
              "      <td>Vegetables</td>\n",
              "      <td>Online</td>\n",
              "      <td>M</td>\n",
              "      <td>2011-11-07</td>\n",
              "      <td>185941302</td>\n",
              "      <td>2011-12-08</td>\n",
              "      <td>3018</td>\n",
              "      <td>154.06</td>\n",
              "      <td>90.93</td>\n",
              "      <td>464953.08</td>\n",
              "      <td>274426.74</td>\n",
              "      <td>190526.34</td>\n",
              "    </tr>\n",
              "    <tr>\n",
              "      <th>2</th>\n",
              "      <td>Middle East and North Africa</td>\n",
              "      <td>Libya</td>\n",
              "      <td>Baby Food</td>\n",
              "      <td>Offline</td>\n",
              "      <td>C</td>\n",
              "      <td>2016-10-31</td>\n",
              "      <td>246222341</td>\n",
              "      <td>2016-12-09</td>\n",
              "      <td>1517</td>\n",
              "      <td>255.28</td>\n",
              "      <td>159.42</td>\n",
              "      <td>387259.76</td>\n",
              "      <td>241840.14</td>\n",
              "      <td>145419.62</td>\n",
              "    </tr>\n",
              "    <tr>\n",
              "      <th>3</th>\n",
              "      <td>Asia</td>\n",
              "      <td>Japan</td>\n",
              "      <td>Cereal</td>\n",
              "      <td>Offline</td>\n",
              "      <td>C</td>\n",
              "      <td>2010-04-10</td>\n",
              "      <td>161442649</td>\n",
              "      <td>2010-05-12</td>\n",
              "      <td>3322</td>\n",
              "      <td>205.70</td>\n",
              "      <td>117.11</td>\n",
              "      <td>683335.40</td>\n",
              "      <td>389039.42</td>\n",
              "      <td>294295.98</td>\n",
              "    </tr>\n",
              "    <tr>\n",
              "      <th>4</th>\n",
              "      <td>Sub-Saharan Africa</td>\n",
              "      <td>Chad</td>\n",
              "      <td>Fruits</td>\n",
              "      <td>Offline</td>\n",
              "      <td>H</td>\n",
              "      <td>2011-08-16</td>\n",
              "      <td>645713555</td>\n",
              "      <td>2011-08-31</td>\n",
              "      <td>9845</td>\n",
              "      <td>9.33</td>\n",
              "      <td>6.92</td>\n",
              "      <td>91853.85</td>\n",
              "      <td>68127.40</td>\n",
              "      <td>23726.45</td>\n",
              "    </tr>\n",
              "  </tbody>\n",
              "</table>\n",
              "</div>"
            ],
            "text/plain": [
              "                         Region Country  ...  Total Cost Total Profit\n",
              "0  Middle East and North Africa   Libya  ...  2224085.18   1468506.02\n",
              "1                 North America  Canada  ...   274426.74    190526.34\n",
              "2  Middle East and North Africa   Libya  ...   241840.14    145419.62\n",
              "3                          Asia   Japan  ...   389039.42    294295.98\n",
              "4            Sub-Saharan Africa    Chad  ...    68127.40     23726.45\n",
              "\n",
              "[5 rows x 14 columns]"
            ]
          },
          "metadata": {
            "tags": []
          },
          "execution_count": 11
        }
      ]
    },
    {
      "cell_type": "code",
      "metadata": {
        "id": "C8rcyxA5SxyU",
        "outputId": "dc1568e1-4ed5-409d-b535-ac8ced7c8278",
        "colab": {
          "base_uri": "https://localhost:8080/",
          "height": 272
        }
      },
      "source": [
        "print(ecom.isnull().sum())"
      ],
      "execution_count": 4,
      "outputs": [
        {
          "output_type": "stream",
          "text": [
            "Region            0\n",
            "Country           0\n",
            "Item Type         0\n",
            "Sales Channel     0\n",
            "Order Priority    0\n",
            "Order Date        0\n",
            "Order ID          0\n",
            "Ship Date         0\n",
            "Units Sold        0\n",
            "Unit Price        0\n",
            "Unit Cost         0\n",
            "Total Revenue     0\n",
            "Total Cost        0\n",
            "Total Profit      0\n",
            "dtype: int64\n"
          ],
          "name": "stdout"
        }
      ]
    },
    {
      "cell_type": "code",
      "metadata": {
        "id": "G_7sUQYrTPgo"
      },
      "source": [
        "import seaborn as sns\n",
        "import matplotlib.pyplot as plt\n"
      ],
      "execution_count": 5,
      "outputs": []
    },
    {
      "cell_type": "code",
      "metadata": {
        "id": "pbxqG4qJVsnF",
        "outputId": "c084a79e-416c-4ea1-dd32-2158469a53b0",
        "colab": {
          "base_uri": "https://localhost:8080/",
          "height": 351
        }
      },
      "source": [
        "plt.figure(figsize=(15,5))\n",
        "sns.barplot(x='Item Type', y='Units Sold', hue='Order Priority', data = ecom)"
      ],
      "execution_count": 6,
      "outputs": [
        {
          "output_type": "execute_result",
          "data": {
            "text/plain": [
              "<matplotlib.axes._subplots.AxesSubplot at 0x7f7995d889b0>"
            ]
          },
          "metadata": {
            "tags": []
          },
          "execution_count": 6
        },
        {
          "output_type": "display_data",
          "data": {
            "image/png": "[encoded data removed]",
            "text/plain": [
              "<Figure size 1080x360 with 1 Axes>"
            ]
          },
          "metadata": {
            "tags": [],
            "needs_background": "light"
          }
        }
      ]
    },
    {
      "cell_type": "code",
      "metadata": {
        "id": "LOqcElTVWJa5",
        "outputId": "8392cf1f-f9d5-4949-b53c-386b07463edc",
        "colab": {
          "base_uri": "https://localhost:8080/",
          "height": 445
        }
      },
      "source": [
        "ecom.head()"
      ],
      "execution_count": 7,
      "outputs": [
        {
          "output_type": "execute_result",
          "data": {
            "text/html": [
              "<div>\n",
              "<style scoped>\n",
              "    .dataframe tbody tr th:only-of-type {\n",
              "        vertical-align: middle;\n",
              "    }\n",
              "\n",
              "    .dataframe tbody tr th {\n",
              "        vertical-align: top;\n",
              "    }\n",
              "\n",
              "    .dataframe thead th {\n",
              "        text-align: right;\n",
              "    }\n",
              "</style>\n",
              "<table border=\"1\" class=\"dataframe\">\n",
              "  <thead>\n",
              "    <tr style=\"text-align: right;\">\n",
              "      <th></th>\n",
              "      <th>Region</th>\n",
              "      <th>Country</th>\n",
              "      <th>Item Type</th>\n",
              "      <th>Sales Channel</th>\n",
              "      <th>Order Priority</th>\n",
              "      <th>Order Date</th>\n",
              "      <th>Order ID</th>\n",
              "      <th>Ship Date</th>\n",
              "      <th>Units Sold</th>\n",
              "      <th>Unit Price</th>\n",
              "      <th>Unit Cost</th>\n",
              "      <th>Total Revenue</th>\n",
              "      <th>Total Cost</th>\n",
              "      <th>Total Profit</th>\n",
              "    </tr>\n",
              "  </thead>\n",
              "  <tbody>\n",
              "    <tr>\n",
              "      <th>0</th>\n",
              "      <td>Middle East and North Africa</td>\n",
              "      <td>Libya</td>\n",
              "      <td>Cosmetics</td>\n",
              "      <td>Offline</td>\n",
              "      <td>M</td>\n",
              "      <td>2014-10-18</td>\n",
              "      <td>686800706</td>\n",
              "      <td>2014-10-31</td>\n",
              "      <td>8446</td>\n",
              "      <td>437.20</td>\n",
              "      <td>263.33</td>\n",
              "      <td>3692591.20</td>\n",
              "      <td>2224085.18</td>\n",
              "      <td>1468506.02</td>\n",
              "    </tr>\n",
              "    <tr>\n",
              "      <th>1</th>\n",
              "      <td>North America</td>\n",
              "      <td>Canada</td>\n",
              "      <td>Vegetables</td>\n",
              "      <td>Online</td>\n",
              "      <td>M</td>\n",
              "      <td>2011-11-07</td>\n",
              "      <td>185941302</td>\n",
              "      <td>2011-12-08</td>\n",
              "      <td>3018</td>\n",
              "      <td>154.06</td>\n",
              "      <td>90.93</td>\n",
              "      <td>464953.08</td>\n",
              "      <td>274426.74</td>\n",
              "      <td>190526.34</td>\n",
              "    </tr>\n",
              "    <tr>\n",
              "      <th>2</th>\n",
              "      <td>Middle East and North Africa</td>\n",
              "      <td>Libya</td>\n",
              "      <td>Baby Food</td>\n",
              "      <td>Offline</td>\n",
              "      <td>C</td>\n",
              "      <td>2016-10-31</td>\n",
              "      <td>246222341</td>\n",
              "      <td>2016-12-09</td>\n",
              "      <td>1517</td>\n",
              "      <td>255.28</td>\n",
              "      <td>159.42</td>\n",
              "      <td>387259.76</td>\n",
              "      <td>241840.14</td>\n",
              "      <td>145419.62</td>\n",
              "    </tr>\n",
              "    <tr>\n",
              "      <th>3</th>\n",
              "      <td>Asia</td>\n",
              "      <td>Japan</td>\n",
              "      <td>Cereal</td>\n",
              "      <td>Offline</td>\n",
              "      <td>C</td>\n",
              "      <td>2010-04-10</td>\n",
              "      <td>161442649</td>\n",
              "      <td>2010-05-12</td>\n",
              "      <td>3322</td>\n",
              "      <td>205.70</td>\n",
              "      <td>117.11</td>\n",
              "      <td>683335.40</td>\n",
              "      <td>389039.42</td>\n",
              "      <td>294295.98</td>\n",
              "    </tr>\n",
              "    <tr>\n",
              "      <th>4</th>\n",
              "      <td>Sub-Saharan Africa</td>\n",
              "      <td>Chad</td>\n",
              "      <td>Fruits</td>\n",
              "      <td>Offline</td>\n",
              "      <td>H</td>\n",
              "      <td>2011-08-16</td>\n",
              "      <td>645713555</td>\n",
              "      <td>2011-08-31</td>\n",
              "      <td>9845</td>\n",
              "      <td>9.33</td>\n",
              "      <td>6.92</td>\n",
              "      <td>91853.85</td>\n",
              "      <td>68127.40</td>\n",
              "      <td>23726.45</td>\n",
              "    </tr>\n",
              "  </tbody>\n",
              "</table>\n",
              "</div>"
            ],
            "text/plain": [
              "                         Region Country  ...  Total Cost Total Profit\n",
              "0  Middle East and North Africa   Libya  ...  2224085.18   1468506.02\n",
              "1                 North America  Canada  ...   274426.74    190526.34\n",
              "2  Middle East and North Africa   Libya  ...   241840.14    145419.62\n",
              "3                          Asia   Japan  ...   389039.42    294295.98\n",
              "4            Sub-Saharan Africa    Chad  ...    68127.40     23726.45\n",
              "\n",
              "[5 rows x 14 columns]"
            ]
          },
          "metadata": {
            "tags": []
          },
          "execution_count": 7
        }
      ]
    },
    {
      "cell_type": "code",
      "metadata": {
        "id": "FshvcgDFMGOC",
        "outputId": "66c1e5f2-3c11-4ed4-9e93-f67a2cb26c01",
        "colab": {
          "base_uri": "https://localhost:8080/",
          "height": 296
        }
      },
      "source": [
        "sns.boxplot(x='Total Profit', data=ecom, showmeans=True)"
      ],
      "execution_count": 10,
      "outputs": [
        {
          "output_type": "execute_result",
          "data": {
            "text/plain": [
              "<matplotlib.axes._subplots.AxesSubplot at 0x7f7977e2d7f0>"
            ]
          },
          "metadata": {
            "tags": []
          },
          "execution_count": 10
        },
        {
          "output_type": "display_data",
          "data": {
            "image/png": "[encoded data removed]",
            "text/plain": [
              "<Figure size 432x288 with 1 Axes>"
            ]
          },
          "metadata": {
            "tags": [],
            "needs_background": "light"
          }
        }
      ]
    }
  ]
}